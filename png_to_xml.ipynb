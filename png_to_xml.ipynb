{
 "cells": [
  {
   "cell_type": "code",
   "execution_count": 2,
   "id": "c723540f-d49e-49e5-8fae-132cea1c09b9",
   "metadata": {},
   "outputs": [],
   "source": [
    "import cv2\n",
    "import numpy as np\n",
    "import matplotlib.pyplot as plt\n",
    "from PIL import Image"
   ]
  },
  {
   "cell_type": "code",
   "execution_count": 3,
   "id": "e512fd33-abf5-478f-9cda-b4404b414a3f",
   "metadata": {},
   "outputs": [],
   "source": [
    "pngimg = Image.open(\"./dataset/Annotations/IMG20230927100144.png\")\n",
    "rgbimg = Image.open(\"./dataset/images/IMG20230927100144.jpg\")"
   ]
  },
  {
   "cell_type": "code",
   "execution_count": 4,
   "id": "b82812ec-3d79-48c3-901a-2e857cc16f4f",
   "metadata": {},
   "outputs": [
    {
     "data": {
      "text/plain": [
       "{0: 12569874, 2: 13038}"
      ]
     },
     "execution_count": 4,
     "metadata": {},
     "output_type": "execute_result"
    }
   ],
   "source": [
    "pngimg_array = np.array(pngimg)\n",
    "unique,count=np.unique(pngimg_array,return_counts=True)\n",
    "dict(zip(unique,count))"
   ]
  },
  {
   "cell_type": "code",
   "execution_count": 8,
   "id": "504bbc35-a313-4f36-b449-6a49a1117fe9",
   "metadata": {},
   "outputs": [],
   "source": [
    "pngimg_array[pngimg_array == 2] = 1"
   ]
  },
  {
   "cell_type": "code",
   "execution_count": 5,
   "id": "5fe516b2-5475-4cdf-99f7-4b4d25b093f3",
   "metadata": {},
   "outputs": [
    {
     "data": {
      "text/plain": [
       "{0: 12529473, 1: 40401, 2: 13038}"
      ]
     },
     "execution_count": 5,
     "metadata": {},
     "output_type": "execute_result"
    }
   ],
   "source": [
    "# 定义矩形区域的左上角和右下角坐标\n",
    "start_row, start_col = 100, 100\n",
    "end_row, end_col = 300, 300\n",
    "\n",
    "# 将矩形区域的值设置为1\n",
    "pngimg_array[start_row:end_row+1, start_col:end_col+1] = 1\n",
    "\n",
    "unique,count=np.unique(pngimg_array,return_counts=True)\n",
    "dict(zip(unique,count))"
   ]
  },
  {
   "cell_type": "code",
   "execution_count": 6,
   "id": "1e7b7e05-8e6f-46d8-8a2f-287c94e0f8f9",
   "metadata": {},
   "outputs": [
    {
     "name": "stdout",
     "output_type": "stream",
     "text": [
      "0.15483498573303223\n"
     ]
    }
   ],
   "source": [
    "import time\n",
    "\n",
    "def normalize_arrays(tuple_of_arrays,x_max,y_max):\n",
    "    sample_size = 50\n",
    "    array_x, array_y = tuple_of_arrays\n",
    "    array1_normalized = array_x / x_max\n",
    "    array2_normalized = array_y / y_max\n",
    "    point_set = np.column_stack([np.around(array2_normalized, decimals=6),np.around(array1_normalized, decimals=6)])\n",
    "    if point_set.shape[0] > sample_size:\n",
    "        return point_set[np.random.choice(point_set.shape[0], size=sample_size, replace=False)]\n",
    "    else:\n",
    "        return point_set\n",
    "\n",
    "def label_to_txt(array, file_path, a):\n",
    "    with open(file_path , 'w') as file:\n",
    "        file.write(str(a))\n",
    "        for row in array:\n",
    "            file.write(' '+' '.join(map(str, row)) )\n",
    "            \n",
    "def add_to_txt(array,file_path ,a):\n",
    "    with open(file_path , 'a') as file:\n",
    "        file.write('\\n')\n",
    "        file.write(str(a))\n",
    "        for row in array:\n",
    "            file.write(' '+' '.join(map(str, row)) )\n",
    "#多个物体写入txt\n",
    "\n",
    "def png_to_label(pngimg_array, file_path):\n",
    "    leash = np.where(pngimg_array == 1)\n",
    "    dog = np.where(pngimg_array == 2)\n",
    "    x_max,y_max = pngimg_array.shape\n",
    "    if len(leash[0])==0:\n",
    "        edges = cv2.Canny(np.uint8(pngimg_array * 255), 0, 1)\n",
    "        data_point_dog = np.where(edges == 255)\n",
    "        data_point_dog = normalize_arrays(data_point_dog,x_max,y_max)\n",
    "        label_to_txt(data_point_dog,file_path,2)\n",
    "    elif len(dog[0])==0:\n",
    "        edges = cv2.Canny(np.uint8(pngimg_array * 255), 0, 1)\n",
    "        data_point_leash = np.where(edges == 255)\n",
    "        data_point_leash = normalize_arrays(data_point_leash,x_max,y_max)\n",
    "        label_to_txt(data_point_leash,file_path,1)\n",
    "    else:\n",
    "        zero_pngimg_array1 = np.zeros_like(pngimg_array, dtype=np.uint8)\n",
    "        zero_pngimg_array2 = np.zeros_like(pngimg_array, dtype=np.uint8)\n",
    "        zero_pngimg_array1[pngimg_array == 1] = 1\n",
    "        zero_pngimg_array2[pngimg_array == 2] = 2\n",
    "        edges1 = cv2.Canny(np.uint8(zero_pngimg_array1 * 255), 0, 1)\n",
    "        edges2 = cv2.Canny(np.uint8(zero_pngimg_array2 * 255), 0, 1)\n",
    "        data_point_leash = np.where(edges1 == 255)\n",
    "        data_point_dog = np.where(edges2 == 255)\n",
    "        data_point_dog = normalize_arrays(data_point_dog,x_max,y_max)\n",
    "        data_point_leash = normalize_arrays(data_point_leash,x_max,y_max)\n",
    "        label_to_txt(data_point_leash,file_path,1)\n",
    "        add_to_txt(data_point_dog,file_path,2)\n",
    "\n",
    "\n",
    "\n",
    "t0 = time.time()\n",
    "file_path = 'output.txt'\n",
    "png_to_label(pngimg_array,file_path)\n",
    "t1 = time.time()\n",
    "print(t1-t0)\n"
   ]
  }
 ],
 "metadata": {
  "kernelspec": {
   "display_name": "Python 3 (ipykernel)",
   "language": "python",
   "name": "python3"
  },
  "language_info": {
   "codemirror_mode": {
    "name": "ipython",
    "version": 3
   },
   "file_extension": ".py",
   "mimetype": "text/x-python",
   "name": "python",
   "nbconvert_exporter": "python",
   "pygments_lexer": "ipython3",
   "version": "3.7.16"
  }
 },
 "nbformat": 4,
 "nbformat_minor": 5
}
